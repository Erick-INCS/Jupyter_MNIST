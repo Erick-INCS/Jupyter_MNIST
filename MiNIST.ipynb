{
 "cells": [
  {
   "cell_type": "code",
   "execution_count": 1,
   "metadata": {},
   "outputs": [],
   "source": [
    "import numpy as np\n",
    "from sklearn.metrics import accuracy_score\n",
    "from matplotlib import pyplot as plt\n",
    "%matplotlib inline\n",
    "import tensorflow as tf"
   ]
  },
  {
   "cell_type": "code",
   "execution_count": 2,
   "metadata": {},
   "outputs": [],
   "source": [
    "import tensorflow_datasets as tfds\n",
    "\n",
    "mnist_data = tfds.load(\"mnist\", with_info=True)\n",
    "mnist_train, mnist_test, mnist_info = mnist_data[0][\"train\"], mnist_data[0][\"test\"], mnist_data[1]\n",
    "assert isinstance(mnist_train, tf.data.Dataset)"
   ]
  },
  {
   "cell_type": "code",
   "execution_count": 3,
   "metadata": {},
   "outputs": [
    {
     "data": {
      "image/png": "[encoded data removed]",
      "text/plain": [
       "<Figure size 648x648 with 9 Axes>"
      ]
     },
     "metadata": {},
     "output_type": "display_data"
    }
   ],
   "source": [
    "fig = tfds.show_examples(mnist_train, mnist_info)"
   ]
  },
  {
   "cell_type": "code",
   "execution_count": 128,
   "metadata": {},
   "outputs": [],
   "source": [
    "it_train = mnist_train.as_numpy_iterator()\n",
    "it_test = mnist_test.as_numpy_iterator()\n",
    "x_train, x_test, y_train, y_test = np.zeros((60000, 784)), np.zeros((10000, 784)), np.zeros((60000, 1)), np.zeros((10000, 1))"
   ]
  },
  {
   "cell_type": "code",
   "execution_count": 129,
   "metadata": {},
   "outputs": [],
   "source": [
    "i = 0;\n",
    "for e in it_train:\n",
    "    x_train[i] = e['image'].reshape(-1)\n",
    "    y_train[i] = e['label']\n",
    "    i+=1"
   ]
  },
  {
   "cell_type": "code",
   "execution_count": 130,
   "metadata": {},
   "outputs": [],
   "source": [
    "i = 0;\n",
    "for e in it_test:\n",
    "    x_test[i] = e['image'].reshape(-1)\n",
    "    y_test[i] = e['label']\n",
    "    i+=1"
   ]
  },
  {
   "cell_type": "code",
   "execution_count": 131,
   "metadata": {},
   "outputs": [],
   "source": [
    "# one hot encoding\n",
    "y_train = tf.keras.utils.to_categorical(y_train, 10)\n",
    "y_test = tf.keras.utils.to_categorical(y_test, 10)"
   ]
  },
  {
   "cell_type": "code",
   "execution_count": 151,
   "metadata": {},
   "outputs": [],
   "source": [
    "model = tf.keras.models.Sequential()"
   ]
  },
  {
   "cell_type": "code",
   "execution_count": 152,
   "metadata": {},
   "outputs": [],
   "source": [
    "model.add(tf.keras.Input(shape=(784,)))"
   ]
  },
  {
   "cell_type": "code",
   "execution_count": 153,
   "metadata": {},
   "outputs": [],
   "source": [
    "model.add(tf.keras.layers.Dense(256, 'tanh'))"
   ]
  },
  {
   "cell_type": "code",
   "execution_count": 154,
   "metadata": {},
   "outputs": [],
   "source": [
    "model.add(tf.keras.layers.Dense(256, 'tanh'))\n",
    "model.add(tf.keras.layers.Dense(10, 'softmax'))"
   ]
  },
  {
   "cell_type": "code",
   "execution_count": 155,
   "metadata": {},
   "outputs": [
    {
     "name": "stdout",
     "output_type": "stream",
     "text": [
      "Model: \"sequential_3\"\n",
      "_________________________________________________________________\n",
      "Layer (type)                 Output Shape              Param #   \n",
      "=================================================================\n",
      "dense_11 (Dense)             (None, 256)               200960    \n",
      "_________________________________________________________________\n",
      "dense_12 (Dense)             (None, 256)               65792     \n",
      "_________________________________________________________________\n",
      "dense_13 (Dense)             (None, 10)                2570      \n",
      "=================================================================\n",
      "Total params: 269,322\n",
      "Trainable params: 269,322\n",
      "Non-trainable params: 0\n",
      "_________________________________________________________________\n"
     ]
    }
   ],
   "source": [
    "model.summary()"
   ]
  },
  {
   "cell_type": "code",
   "execution_count": 147,
   "metadata": {},
   "outputs": [
    {
     "data": {
      "text/plain": [
       "8.715250743307479e-15"
      ]
     },
     "execution_count": 147,
     "metadata": {},
     "output_type": "execute_result"
    }
   ],
   "source": [
    "# maybe\n",
    "mm = (x_train.mean() + x_test.mean())/2\n",
    "x_train -= mm\n",
    "x_test -= mm\n",
    "mm"
   ]
  },
  {
   "cell_type": "code",
   "execution_count": 156,
   "metadata": {},
   "outputs": [],
   "source": [
    "model.compile(\n",
    "    optimizer=tf.keras.optimizers.Adam(),  # Optimizer\n",
    "    # Loss function to minimize\n",
    "    loss='categorical_crossentropy',\n",
    "    # List of metrics to monitor\n",
    "    metrics=['categorical_accuracy'],\n",
    ")"
   ]
  },
  {
   "cell_type": "code",
   "execution_count": 139,
   "metadata": {},
   "outputs": [
    {
     "name": "stdout",
     "output_type": "stream",
     "text": [
      "(60000, 784)\n",
      "(10000, 784) \n",
      "\n",
      "(60000, 10)\n",
      "(10000, 10)\n",
      "[[0. 0. 0. 0. 1. 0. 0. 0. 0. 0.]\n",
      " [0. 1. 0. 0. 0. 0. 0. 0. 0. 0.]\n",
      " [1. 0. 0. 0. 0. 0. 0. 0. 0. 0.]]\n"
     ]
    }
   ],
   "source": [
    "print(x_train.shape)\n",
    "print(x_test.shape,'\\n')\n",
    "\n",
    "print(y_train.shape)\n",
    "print(y_test.shape)\n",
    "print(y_train[:3])"
   ]
  },
  {
   "cell_type": "code",
   "execution_count": 157,
   "metadata": {},
   "outputs": [
    {
     "name": "stdout",
     "output_type": "stream",
     "text": [
      "Epoch 1/40\n",
      "118/118 [==============================] - 2s 14ms/step - loss: 0.4887 - categorical_accuracy: 0.8512 - val_loss: 0.3195 - val_categorical_accuracy: 0.9019\n",
      "Epoch 2/40\n",
      "118/118 [==============================] - 2s 13ms/step - loss: 0.3145 - categorical_accuracy: 0.9050 - val_loss: 0.2984 - val_categorical_accuracy: 0.9092\n",
      "Epoch 3/40\n",
      "118/118 [==============================] - 2s 13ms/step - loss: 0.2841 - categorical_accuracy: 0.9121 - val_loss: 0.2822 - val_categorical_accuracy: 0.9116\n",
      "Epoch 4/40\n",
      "118/118 [==============================] - 2s 13ms/step - loss: 0.2635 - categorical_accuracy: 0.9187 - val_loss: 0.2645 - val_categorical_accuracy: 0.9186\n",
      "Epoch 5/40\n",
      "118/118 [==============================] - 2s 13ms/step - loss: 0.2419 - categorical_accuracy: 0.9260 - val_loss: 0.2270 - val_categorical_accuracy: 0.9302\n",
      "Epoch 6/40\n",
      "118/118 [==============================] - 2s 13ms/step - loss: 0.2433 - categorical_accuracy: 0.9239 - val_loss: 0.2351 - val_categorical_accuracy: 0.9262\n",
      "Epoch 7/40\n",
      "118/118 [==============================] - 2s 13ms/step - loss: 0.2320 - categorical_accuracy: 0.9269 - val_loss: 0.2454 - val_categorical_accuracy: 0.9240\n",
      "Epoch 8/40\n",
      "118/118 [==============================] - 2s 13ms/step - loss: 0.2335 - categorical_accuracy: 0.9260 - val_loss: 0.2150 - val_categorical_accuracy: 0.9350\n",
      "Epoch 9/40\n",
      "118/118 [==============================] - 2s 13ms/step - loss: 0.2097 - categorical_accuracy: 0.9344 - val_loss: 0.2044 - val_categorical_accuracy: 0.9361\n",
      "Epoch 10/40\n",
      "118/118 [==============================] - 2s 13ms/step - loss: 0.1986 - categorical_accuracy: 0.9384 - val_loss: 0.1904 - val_categorical_accuracy: 0.9407\n",
      "Epoch 11/40\n",
      "118/118 [==============================] - 2s 13ms/step - loss: 0.1990 - categorical_accuracy: 0.9374 - val_loss: 0.1891 - val_categorical_accuracy: 0.9401\n",
      "Epoch 12/40\n",
      "118/118 [==============================] - 2s 13ms/step - loss: 0.1861 - categorical_accuracy: 0.9416 - val_loss: 0.1854 - val_categorical_accuracy: 0.9421\n",
      "Epoch 13/40\n",
      "118/118 [==============================] - 2s 13ms/step - loss: 0.1830 - categorical_accuracy: 0.9435 - val_loss: 0.1915 - val_categorical_accuracy: 0.9419\n",
      "Epoch 14/40\n",
      "118/118 [==============================] - 2s 13ms/step - loss: 0.1812 - categorical_accuracy: 0.9428 - val_loss: 0.1806 - val_categorical_accuracy: 0.9432\n",
      "Epoch 15/40\n",
      "118/118 [==============================] - 2s 13ms/step - loss: 0.1757 - categorical_accuracy: 0.9455 - val_loss: 0.1940 - val_categorical_accuracy: 0.9370\n",
      "Epoch 16/40\n",
      "118/118 [==============================] - 2s 13ms/step - loss: 0.1789 - categorical_accuracy: 0.9439 - val_loss: 0.1984 - val_categorical_accuracy: 0.9372\n",
      "Epoch 17/40\n",
      "118/118 [==============================] - 2s 13ms/step - loss: 0.1784 - categorical_accuracy: 0.9431 - val_loss: 0.1783 - val_categorical_accuracy: 0.9427\n",
      "Epoch 18/40\n",
      "118/118 [==============================] - 2s 13ms/step - loss: 0.1660 - categorical_accuracy: 0.9473 - val_loss: 0.1716 - val_categorical_accuracy: 0.9468\n",
      "Epoch 19/40\n",
      "118/118 [==============================] - 2s 13ms/step - loss: 0.1671 - categorical_accuracy: 0.9475 - val_loss: 0.1755 - val_categorical_accuracy: 0.9450\n",
      "Epoch 20/40\n",
      "118/118 [==============================] - 2s 13ms/step - loss: 0.1660 - categorical_accuracy: 0.9484 - val_loss: 0.1655 - val_categorical_accuracy: 0.9483\n",
      "Epoch 21/40\n",
      "118/118 [==============================] - 2s 13ms/step - loss: 0.1571 - categorical_accuracy: 0.9511 - val_loss: 0.1640 - val_categorical_accuracy: 0.9486\n",
      "Epoch 22/40\n",
      "118/118 [==============================] - 2s 13ms/step - loss: 0.1527 - categorical_accuracy: 0.9514 - val_loss: 0.1558 - val_categorical_accuracy: 0.9503\n",
      "Epoch 23/40\n",
      "118/118 [==============================] - 2s 13ms/step - loss: 0.1519 - categorical_accuracy: 0.9526 - val_loss: 0.1519 - val_categorical_accuracy: 0.9521\n",
      "Epoch 24/40\n",
      "118/118 [==============================] - 2s 13ms/step - loss: 0.1505 - categorical_accuracy: 0.9528 - val_loss: 0.1786 - val_categorical_accuracy: 0.9435\n",
      "Epoch 25/40\n",
      "118/118 [==============================] - 2s 13ms/step - loss: 0.1505 - categorical_accuracy: 0.9529 - val_loss: 0.1572 - val_categorical_accuracy: 0.9510\n",
      "Epoch 26/40\n",
      "118/118 [==============================] - 2s 13ms/step - loss: 0.1465 - categorical_accuracy: 0.9528 - val_loss: 0.1584 - val_categorical_accuracy: 0.9524\n",
      "Epoch 27/40\n",
      "118/118 [==============================] - 2s 13ms/step - loss: 0.1398 - categorical_accuracy: 0.9561 - val_loss: 0.1452 - val_categorical_accuracy: 0.9532\n",
      "Epoch 28/40\n",
      "118/118 [==============================] - 2s 13ms/step - loss: 0.1339 - categorical_accuracy: 0.9576 - val_loss: 0.1598 - val_categorical_accuracy: 0.9517\n",
      "Epoch 29/40\n",
      "118/118 [==============================] - 2s 13ms/step - loss: 0.1425 - categorical_accuracy: 0.9547 - val_loss: 0.1524 - val_categorical_accuracy: 0.9529\n",
      "Epoch 30/40\n",
      "118/118 [==============================] - 2s 14ms/step - loss: 0.1356 - categorical_accuracy: 0.9568 - val_loss: 0.1465 - val_categorical_accuracy: 0.9560\n",
      "Epoch 31/40\n",
      "118/118 [==============================] - 2s 13ms/step - loss: 0.1301 - categorical_accuracy: 0.9593 - val_loss: 0.1423 - val_categorical_accuracy: 0.9559\n",
      "Epoch 32/40\n",
      "118/118 [==============================] - 2s 13ms/step - loss: 0.1348 - categorical_accuracy: 0.9566 - val_loss: 0.1516 - val_categorical_accuracy: 0.9528\n",
      "Epoch 33/40\n",
      "118/118 [==============================] - 2s 13ms/step - loss: 0.1312 - categorical_accuracy: 0.9579 - val_loss: 0.1410 - val_categorical_accuracy: 0.9561\n",
      "Epoch 34/40\n",
      "118/118 [==============================] - 2s 13ms/step - loss: 0.1286 - categorical_accuracy: 0.9588 - val_loss: 0.1395 - val_categorical_accuracy: 0.9568\n",
      "Epoch 35/40\n",
      "118/118 [==============================] - 2s 13ms/step - loss: 0.1355 - categorical_accuracy: 0.9570 - val_loss: 0.1538 - val_categorical_accuracy: 0.9518\n",
      "Epoch 36/40\n",
      "118/118 [==============================] - 2s 14ms/step - loss: 0.1313 - categorical_accuracy: 0.9587 - val_loss: 0.1325 - val_categorical_accuracy: 0.9580\n",
      "Epoch 37/40\n",
      "118/118 [==============================] - 2s 14ms/step - loss: 0.1308 - categorical_accuracy: 0.9588 - val_loss: 0.1413 - val_categorical_accuracy: 0.9555\n",
      "Epoch 38/40\n",
      "118/118 [==============================] - 2s 14ms/step - loss: 0.1290 - categorical_accuracy: 0.9591 - val_loss: 0.1405 - val_categorical_accuracy: 0.9567\n",
      "Epoch 39/40\n",
      "118/118 [==============================] - 2s 14ms/step - loss: 0.1268 - categorical_accuracy: 0.9595 - val_loss: 0.1489 - val_categorical_accuracy: 0.9543\n",
      "Epoch 40/40\n",
      "118/118 [==============================] - 2s 14ms/step - loss: 0.1224 - categorical_accuracy: 0.9611 - val_loss: 0.1381 - val_categorical_accuracy: 0.9543\n"
     ]
    },
    {
     "data": {
      "text/plain": [
       "<tensorflow.python.keras.callbacks.History at 0x7f0d7898fd10>"
      ]
     },
     "execution_count": 157,
     "metadata": {},
     "output_type": "execute_result"
    }
   ],
   "source": [
    "model.fit(\n",
    "    x_train,\n",
    "    y_train,\n",
    "    batch_size=512, \n",
    "    epochs=40,\n",
    "    validation_data=(x_test, y_test)\n",
    ")"
   ]
  },
  {
   "cell_type": "code",
   "execution_count": 117,
   "metadata": {},
   "outputs": [
    {
     "name": "stdout",
     "output_type": "stream",
     "text": [
      "Evaluate on test data\n",
      "20/20 [==============================] - 0s 6ms/step - loss: 0.1330 - categorical_accuracy: 0.9580\n",
      "test loss, test acc: [0.1330365240573883, 0.9580000042915344]\n"
     ]
    }
   ],
   "source": [
    "# Evaluate the model on the test data using `evaluate`\n",
    "print(\"Evaluate on test data\")\n",
    "results = model.evaluate(x_test, y_test, batch_size=512)\n",
    "print(\"test loss, test acc:\", results)"
   ]
  },
  {
   "cell_type": "code",
   "execution_count": 150,
   "metadata": {},
   "outputs": [
    {
     "name": "stdout",
     "output_type": "stream",
     "text": [
      "Evaluation of 'normalized'\n",
      "20/20 [==============================] - 0s 7ms/step - loss: 0.1395 - categorical_accuracy: 0.9575\n",
      "test loss, test acc: [0.13948050141334534, 0.9574999809265137]\n"
     ]
    }
   ],
   "source": [
    "# Second evaluation with \"offset data\"\n",
    "print(\"Evaluation of 'normalized'\")\n",
    "results = model.evaluate(x_test, y_test, batch_size=512)\n",
    "print(\"test loss, test acc:\", results)"
   ]
  },
  {
   "cell_type": "code",
   "execution_count": 84,
   "metadata": {},
   "outputs": [],
   "source": [
    "import random"
   ]
  },
  {
   "cell_type": "code",
   "execution_count": 123,
   "metadata": {},
   "outputs": [
    {
     "data": {
      "image/png": "[encoded data removed]",
      "text/plain": [
       "<Figure size 720x720 with 6 Axes>"
      ]
     },
     "metadata": {
      "needs_background": "light"
     },
     "output_type": "display_data"
    }
   ],
   "source": [
    "axes=[]\n",
    "fig=plt.figure(figsize=(10,10))\n",
    "\n",
    "for a in range(6):\n",
    "    n = random.randint(0, x_test.shape[0])\n",
    "    axes.append(fig.add_subplot(3, 3, a+1) )\n",
    "    subplot_title=(\"Predicted: \" + str(np.argmax(model.predict(x_test[n].reshape(1, -1)))))\n",
    "    axes[-1].set_title(subplot_title)\n",
    "    plt.imshow(x_test[n].reshape(28,28), cmap=\"Greys\")\n",
    "fig.tight_layout()\n",
    "plt.show()"
   ]
  }
 ],
 "metadata": {
  "kernelspec": {
   "display_name": "Python 3",
   "language": "python",
   "name": "python3"
  },
  "language_info": {
   "codemirror_mode": {
    "name": "ipython",
    "version": 3
   },
   "file_extension": ".py",
   "mimetype": "text/x-python",
   "name": "python",
   "nbconvert_exporter": "python",
   "pygments_lexer": "ipython3",
   "version": "3.7.6"
  }
 },
 "nbformat": 4,
 "nbformat_minor": 4
}
